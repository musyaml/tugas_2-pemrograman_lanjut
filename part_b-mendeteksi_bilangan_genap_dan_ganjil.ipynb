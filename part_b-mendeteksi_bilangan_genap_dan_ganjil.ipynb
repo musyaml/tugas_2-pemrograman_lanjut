{
  "nbformat": 4,
  "nbformat_minor": 0,
  "metadata": {
    "colab": {
      "provenance": [],
      "authorship_tag": "ABX9TyPJannbpV69N1kkWDazD2W7",
      "include_colab_link": true
    },
    "kernelspec": {
      "name": "python3",
      "display_name": "Python 3"
    },
    "language_info": {
      "name": "python"
    }
  },
  "cells": [
    {
      "cell_type": "markdown",
      "metadata": {
        "id": "view-in-github",
        "colab_type": "text"
      },
      "source": [
        "<a href=\"https://colab.research.google.com/github/musyaml/tugas_2-pemrograman_lanjut/blob/main/part_b-mendeteksi_bilangan_genap_dan_ganjil.ipynb\" target=\"_parent\"><img src=\"https://colab.research.google.com/assets/colab-badge.svg\" alt=\"Open In Colab\"/></a>"
      ]
    },
    {
      "cell_type": "code",
      "execution_count": null,
      "metadata": {
        "colab": {
          "base_uri": "https://localhost:8080/"
        },
        "id": "pOQzWLE_J62p",
        "outputId": "51d74b94-4fdb-4c04-f7eb-dcb8901fc5a0"
      },
      "outputs": [
        {
          "output_type": "stream",
          "name": "stdout",
          "text": [
            "Masukkan angka (1-20)     : 7\n",
            "1\n",
            "9\n",
            "25\n"
          ]
        }
      ],
      "source": [
        "'''\n",
        "Nama           : Muhammad Syaamil Muzhaffar\n",
        "NIM            : 41823010124\n",
        "Mata Kuliah    : Pemrograman Lanjut\n",
        "Dosen Pengampu : Muhammad Ali Akbar, M.Kom\n",
        "'''\n",
        "\n",
        "# Part B | Mendeteksi Bilangan Genap dan Ganjil\n",
        "angka = int(input(\"Masukkan angka (1-20)     : \"))\n",
        "if angka >= 1 and angka <= 20:\n",
        "  for i in range(0, angka):\n",
        "    if i % 2 == 1:\n",
        "      print(i*i)\n",
        "elif angka > 20:\n",
        "  print(f\"Angka di luar jangkauan : {angka}\")\n",
        "  exit()\n",
        "elif angka < 0:\n",
        "  print(f\"Angka tidak boleh negatif : {angka}\")\n",
        "  exit()\n",
        "else:\n",
        "  print(f\"Angka tidak boleh nol : {angka}\")\n",
        "  exit()"
      ]
    }
  ]
}