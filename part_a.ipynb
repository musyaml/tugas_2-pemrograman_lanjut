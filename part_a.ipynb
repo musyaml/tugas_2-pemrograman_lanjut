{
  "nbformat": 4,
  "nbformat_minor": 0,
  "metadata": {
    "colab": {
      "provenance": [],
      "authorship_tag": "ABX9TyNksv1EhRVhr7sJzhd9Uc98",
      "include_colab_link": true
    },
    "kernelspec": {
      "name": "python3",
      "display_name": "Python 3"
    },
    "language_info": {
      "name": "python"
    }
  },
  "cells": [
    {
      "cell_type": "markdown",
      "metadata": {
        "id": "view-in-github",
        "colab_type": "text"
      },
      "source": [
        "<a href=\"https://colab.research.google.com/github/musyaml/tugas_2-pemrograman_lanjut/blob/main/part_a.ipynb\" target=\"_parent\"><img src=\"https://colab.research.google.com/assets/colab-badge.svg\" alt=\"Open In Colab\"/></a>"
      ]
    },
    {
      "cell_type": "code",
      "source": [
        "\n",
        "'''\n",
        "Nama           : Muhammad Syaamil Muzhaffar\n",
        "NIM            : 41823010124\n",
        "Mata Kuliah    : Pemrograman Lanjut\n",
        "Dosen Pengampu : Muhammad Ali Akbar, M.Kom\n",
        "'''\n",
        "\n",
        "# Part A\n",
        "angka = int(input(\"Masukkan Angka (1-20)     : \"))\n",
        "if angka >= 1 and angka <= 20:\n",
        "    for i in range(angka):\n",
        "        print(i*i)\n",
        "elif angka > 20:\n",
        "    print(f\"Angka di luar jangkauan   : {angka}\")\n",
        "    exit()\n",
        "else:\n",
        "    print(f\"Angka tidak boleh Negatif : {angka}\")\n",
        "    exit()"
      ],
      "metadata": {
        "colab": {
          "base_uri": "https://localhost:8080/"
        },
        "id": "xRXbDbnXhVWL",
        "outputId": "3a99c178-506b-4724-9ad8-dc0d0850ab1c"
      },
      "execution_count": null,
      "outputs": [
        {
          "output_type": "stream",
          "name": "stdout",
          "text": [
            "Masukkan Angka (1-20)     : 7\n",
            "0\n",
            "1\n",
            "4\n",
            "9\n",
            "16\n",
            "25\n",
            "36\n"
          ]
        }
      ]
    }
  ]
}